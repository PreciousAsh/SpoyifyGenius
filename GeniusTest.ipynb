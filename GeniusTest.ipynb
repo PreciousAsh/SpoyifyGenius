{
 "cells": [
  {
   "cell_type": "code",
   "execution_count": 23,
   "id": "56b68133",
   "metadata": {},
   "outputs": [],
   "source": [
    "from lyricsgenius import Genius\n",
    "import json"
   ]
  },
  {
   "cell_type": "code",
   "execution_count": 26,
   "id": "73b2330f",
   "metadata": {},
   "outputs": [],
   "source": [
    "credentials = \"GeniusKeys.json\"\n",
    "with open(credentials, \"r\") as keys:\n",
    "    api_tokens = json.load(keys)"
   ]
  },
  {
   "cell_type": "code",
   "execution_count": 27,
   "id": "1482823d",
   "metadata": {},
   "outputs": [],
   "source": [
    "client_id = api_tokens[\"client_id\"]\n",
    "client_secret = api_tokens[\"client_secret\"]\n",
    "client_access_token = api_tokens[\"client_access_token\"]"
   ]
  },
  {
   "cell_type": "code",
   "execution_count": 32,
   "id": "851c8e34",
   "metadata": {
    "scrolled": false
   },
   "outputs": [
    {
     "name": "stdout",
     "output_type": "stream",
     "text": [
      "Searching for songs by Rhianna...\n",
      "\n",
      "Song 1: \"Damm\"\n",
      "Song 2: \"Girlfriend\"\n",
      "Song 3: \"I Love Every Little Thing About You\"\n",
      "Song 4: \"Justify\"\n",
      "Song 5: \"Moon is Blue\"\n",
      "Song 6: \"Oh Baby\"\n",
      "Song 7: \"Romeo and Juliet\"\n",
      "Song 8: \"Runaway\"\n",
      "Song 9: \"TLND\"\n",
      "Song 10: \"Unfaithful\"\n",
      "\n",
      "Reached user-specified song limit (10).\n",
      "Done. Found 10 songs.\n",
      "[Song(id, artist, ...), Song(id, artist, ...), Song(id, artist, ...), Song(id, artist, ...), Song(id, artist, ...), Song(id, artist, ...), Song(id, artist, ...), Song(id, artist, ...), Song(id, artist, ...), Song(id, artist, ...)]\n"
     ]
    }
   ],
   "source": [
    "#How to search for an artist,number of songs and sort from a - z.\n",
    "genius = Genius(client_access_token)\n",
    "artist = genius.search_artist(\"Rhianna\", max_songs=10, sort=\"title\")\n",
    "print(artist.songs)"
   ]
  },
  {
   "cell_type": "code",
   "execution_count": 33,
   "id": "ec7f97e4",
   "metadata": {
    "scrolled": true
   },
   "outputs": [
    {
     "name": "stdout",
     "output_type": "stream",
     "text": [
      "Searching for \"Lift me up\" by Rhianna...\n",
      "Done.\n",
      "TranslationsPortuguêsTürkçeEspañolFrançaisDeutschNederlandsItalianoLift Me Up Lyrics[Chorus]\n",
      "Lift me up\n",
      "Hold me down\n",
      "Keep me close\n",
      "Safe and sound\n",
      "\n",
      "[Verse 1]\n",
      "Burning in a hopeless dream\n",
      "Hold me when you go to sleep\n",
      "Keep me in the warmth of your love\n",
      "When you depart, keep me safe\n",
      "Safe and sound\n",
      "[Chorus]\n",
      "Lift me up\n",
      "Hold me down\n",
      "Keep me close\n",
      "Safe and sound\n",
      "\n",
      "[Verse 2]\n",
      "Drowning in an endless sea\n",
      "Take some time and stay with me\n",
      "Keep me in the strength of your arms\n",
      "Keep me safe\n",
      "Safe and sound\n",
      "\n",
      "[Chorus]\n",
      "Lift me up\n",
      "Hold me down\n",
      "Keep me safe\n",
      "Safe and sound\n",
      "\n",
      "[Verse 3]\n",
      "Burning in a hopeless dream\n",
      "Hold me when you go to sleep\n",
      "Keep me safe\n",
      "We need light, we need love\n",
      "\n",
      "[Chorus]\n",
      "(Lift me up) Lift me up in your arms\n",
      "(Hold me down) I need love, I need love, I need love\n",
      "(Keep me close) Hold me, hold me\n",
      "(Safe and sound) Hold me, hold me, hold me, hold me\n",
      "(Lift me up) Hold me, hold me, hold me, hold me\n",
      "(Hold me down) Hold me, hold me\n",
      "(Keep me safe) We need light, we need loveYou might also like18Embed\n"
     ]
    }
   ],
   "source": [
    "# How to search for the lyrics of a song unsing the artist and song title\n",
    "song = artist.song(\"Lift me up\")\n",
    "\n",
    "print(song.lyrics)"
   ]
  },
  {
   "cell_type": "code",
   "execution_count": null,
   "id": "4cd50b45",
   "metadata": {},
   "outputs": [],
   "source": []
  }
 ],
 "metadata": {
  "kernelspec": {
   "display_name": "Python 3 (ipykernel)",
   "language": "python",
   "name": "python3"
  },
  "language_info": {
   "codemirror_mode": {
    "name": "ipython",
    "version": 3
   },
   "file_extension": ".py",
   "mimetype": "text/x-python",
   "name": "python",
   "nbconvert_exporter": "python",
   "pygments_lexer": "ipython3",
   "version": "3.11.0"
  }
 },
 "nbformat": 4,
 "nbformat_minor": 5
}
